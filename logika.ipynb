{
  "nbformat": 4,
  "nbformat_minor": 0,
  "metadata": {
    "colab": {
      "provenance": [],
      "authorship_tag": "ABX9TyM8A/DFXaEA6dcerobUeuY4",
      "include_colab_link": true
    },
    "kernelspec": {
      "name": "python3",
      "display_name": "Python 3"
    },
    "language_info": {
      "name": "python"
    }
  },
  "cells": [
    {
      "cell_type": "markdown",
      "metadata": {
        "id": "view-in-github",
        "colab_type": "text"
      },
      "source": [
        "<a href=\"https://colab.research.google.com/github/MPashaAlv/Praktikum_alpro/blob/main/logika.ipynb\" target=\"_parent\"><img src=\"https://colab.research.google.com/assets/colab-badge.svg\" alt=\"Open In Colab\"/></a>"
      ]
    },
    {
      "cell_type": "markdown",
      "source": [
        "Kondisi Python dan Pernyataan If"
      ],
      "metadata": {
        "id": "4zI987LlIajV"
      }
    },
    {
      "cell_type": "code",
      "execution_count": 18,
      "metadata": {
        "colab": {
          "base_uri": "https://localhost:8080/"
        },
        "id": "0H698RBC2qww",
        "outputId": "5184aa12-555b-492b-aee1-fdc049d05a96"
      },
      "outputs": [
        {
          "output_type": "stream",
          "name": "stdout",
          "text": [
            "b lebih besar dari a\n"
          ]
        }
      ],
      "source": [
        "a = 33\n",
        "b = 200\n",
        "if b > a:\n",
        "    print(\"b lebih besar dari a\")"
      ]
    },
    {
      "cell_type": "markdown",
      "source": [
        "Elif"
      ],
      "metadata": {
        "id": "IWzJ8qr2HWEM"
      }
    },
    {
      "cell_type": "code",
      "source": [
        "a = 33\n",
        "b = 33\n",
        "if b > a:\n",
        "    print(\"b lebih besar dari a\")\n",
        "elif a==b:\n",
        "    print(\"a dan b bernilai sama\")"
      ],
      "metadata": {
        "colab": {
          "base_uri": "https://localhost:8080/"
        },
        "id": "uxnhWLLq34M6",
        "outputId": "0b734ecd-d4f2-4a16-8671-7ce13971632c"
      },
      "execution_count": 17,
      "outputs": [
        {
          "output_type": "stream",
          "name": "stdout",
          "text": [
            "a dan b bernilai sama\n"
          ]
        }
      ]
    },
    {
      "cell_type": "markdown",
      "source": [
        "Else"
      ],
      "metadata": {
        "id": "oNPZ2HUaHR9g"
      }
    },
    {
      "cell_type": "code",
      "source": [
        "a = 200\n",
        "b = 33\n",
        "if b > a:\n",
        "  print(\"b lebih besar dari a\")\n",
        "elif a == b:\n",
        "  print(\"a dan b bernilai sama\")\n",
        "else:\n",
        "  print(\"a lebih besar dari b\")"
      ],
      "metadata": {
        "colab": {
          "base_uri": "https://localhost:8080/"
        },
        "id": "MT7S_KqgHTdM",
        "outputId": "1696d050-02cf-4694-ae05-50e165c1a7fc"
      },
      "execution_count": 1,
      "outputs": [
        {
          "output_type": "stream",
          "name": "stdout",
          "text": [
            "a lebih besar dari b\n"
          ]
        }
      ]
    },
    {
      "cell_type": "code",
      "source": [
        "a = 200\n",
        "b = 33\n",
        "if b > a:\n",
        "  print(\"b lebih besar dari a\")\n",
        "else:\n",
        "  print(\"b tidak lebih besar dari a\")"
      ],
      "metadata": {
        "colab": {
          "base_uri": "https://localhost:8080/"
        },
        "id": "f4-CSpXaHse9",
        "outputId": "e56edb91-b252-4d9c-ceb9-a734d80fe746"
      },
      "execution_count": 6,
      "outputs": [
        {
          "output_type": "stream",
          "name": "stdout",
          "text": [
            "b tidak lebih besar dari a\n"
          ]
        }
      ]
    },
    {
      "cell_type": "markdown",
      "source": [
        "If Pendek"
      ],
      "metadata": {
        "id": "8E2I0gtpJsTM"
      }
    },
    {
      "cell_type": "code",
      "source": [
        "a = 200\n",
        "b = 33\n",
        "if a > b: print(\"a lebih besar dari b\")"
      ],
      "metadata": {
        "colab": {
          "base_uri": "https://localhost:8080/"
        },
        "id": "8nUB1Eo-JuN0",
        "outputId": "87a59cb6-1659-464d-9ba5-74b6fa2cb3f9"
      },
      "execution_count": 7,
      "outputs": [
        {
          "output_type": "stream",
          "name": "stdout",
          "text": [
            "a lebih besar dari b\n"
          ]
        }
      ]
    },
    {
      "cell_type": "markdown",
      "source": [
        "If... Else Pendek"
      ],
      "metadata": {
        "id": "jZQbvQ2IJ9n9"
      }
    },
    {
      "cell_type": "code",
      "source": [
        "a = 2\n",
        "b = 330\n",
        "print(\"A\") if a > b else print(\"B\")"
      ],
      "metadata": {
        "colab": {
          "base_uri": "https://localhost:8080/"
        },
        "id": "I3dj9LuwKAuc",
        "outputId": "67cc6907-840c-4bf4-fce9-6ff28cc6e011"
      },
      "execution_count": 8,
      "outputs": [
        {
          "output_type": "stream",
          "name": "stdout",
          "text": [
            "B\n"
          ]
        }
      ]
    },
    {
      "cell_type": "code",
      "source": [
        "a = 330\n",
        "b = 330\n",
        "print(\"A\") if a > b else print(\"=\") if a==b else print(\"B\")"
      ],
      "metadata": {
        "colab": {
          "base_uri": "https://localhost:8080/"
        },
        "id": "iHVl0LYnKOJl",
        "outputId": "e06b4a64-d914-42ce-c75e-7e7597152804"
      },
      "execution_count": 9,
      "outputs": [
        {
          "output_type": "stream",
          "name": "stdout",
          "text": [
            "=\n"
          ]
        }
      ]
    },
    {
      "cell_type": "markdown",
      "source": [
        "And"
      ],
      "metadata": {
        "id": "7Lt69tZuKcuN"
      }
    },
    {
      "cell_type": "code",
      "source": [
        "a = 200\n",
        "b = 33\n",
        "c = 500\n",
        "if a > b and c > a:\n",
        "  print(\"Kedua nya bernilai benar\")"
      ],
      "metadata": {
        "colab": {
          "base_uri": "https://localhost:8080/"
        },
        "id": "I8L1bSeXKdxv",
        "outputId": "da9527f1-2648-4fb3-d37f-66a23a8cbdd2"
      },
      "execution_count": 10,
      "outputs": [
        {
          "output_type": "stream",
          "name": "stdout",
          "text": [
            "Kedua nya bernilai benar\n"
          ]
        }
      ]
    },
    {
      "cell_type": "markdown",
      "source": [
        "Or"
      ],
      "metadata": {
        "id": "PDR7tepfKpkM"
      }
    },
    {
      "cell_type": "code",
      "source": [
        "a = 200\n",
        "b = 33\n",
        "c = 500\n",
        "if a > b or a > c:\n",
        "  print(\"Sedikitnya satu kondisi terpenuhi\")"
      ],
      "metadata": {
        "colab": {
          "base_uri": "https://localhost:8080/"
        },
        "id": "0LRoLW6yKqpM",
        "outputId": "c36eaba9-940d-4bd1-ffe8-0ff414c898b4"
      },
      "execution_count": 12,
      "outputs": [
        {
          "output_type": "stream",
          "name": "stdout",
          "text": [
            "Sedikitnya satu kondisi terpenuhi\n"
          ]
        }
      ]
    },
    {
      "cell_type": "markdown",
      "source": [
        "If Bersarang ( Nested If)"
      ],
      "metadata": {
        "id": "pwCSCEG_K7ku"
      }
    },
    {
      "cell_type": "code",
      "source": [
        "x = 41\n",
        "if x > 10:\n",
        "  print(\"Nilai di atas 10,\")\n",
        "  if x > 20:\n",
        "    print(\"Dan juga di atas 20!\")\n",
        "  else:\n",
        "    print(\"Tapi tidak di atas 20.\")"
      ],
      "metadata": {
        "colab": {
          "base_uri": "https://localhost:8080/"
        },
        "id": "k0QVMnKKK_2t",
        "outputId": "ba6ae1e3-8faf-45a1-fd92-700ccca221e7"
      },
      "execution_count": 14,
      "outputs": [
        {
          "output_type": "stream",
          "name": "stdout",
          "text": [
            "Nilai di atas 10,\n",
            "Dan juga di atas 20!\n"
          ]
        }
      ]
    },
    {
      "cell_type": "markdown",
      "source": [
        "Pernyataan Pass"
      ],
      "metadata": {
        "id": "JRdYwlstNlc2"
      }
    },
    {
      "cell_type": "code",
      "source": [
        "a = 33\n",
        "b = 200\n",
        "if b > a:\n",
        "  pass"
      ],
      "metadata": {
        "id": "9bLqe0tAQB5W"
      },
      "execution_count": 16,
      "outputs": []
    }
  ]
}