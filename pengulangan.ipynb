{
  "nbformat": 4,
  "nbformat_minor": 0,
  "metadata": {
    "colab": {
      "provenance": [],
      "authorship_tag": "ABX9TyPpm447lerUYZqa4JCAryFp",
      "include_colab_link": true
    },
    "kernelspec": {
      "name": "python3",
      "display_name": "Python 3"
    },
    "language_info": {
      "name": "python"
    }
  },
  "cells": [
    {
      "cell_type": "markdown",
      "metadata": {
        "id": "view-in-github",
        "colab_type": "text"
      },
      "source": [
        "<a href=\"https://colab.research.google.com/github/MPashaAlv/Praktikum_alpro/blob/main/pengulangan.ipynb\" target=\"_parent\"><img src=\"https://colab.research.google.com/assets/colab-badge.svg\" alt=\"Open In Colab\"/></a>"
      ]
    },
    {
      "cell_type": "code",
      "execution_count": null,
      "metadata": {
        "colab": {
          "base_uri": "https://localhost:8080/"
        },
        "id": "D0-ltV-sSeSf",
        "outputId": "19b207de-4110-4fa3-951d-f7b0d4d9de71"
      },
      "outputs": [
        {
          "output_type": "stream",
          "name": "stdout",
          "text": [
            "1\n",
            "2\n",
            "3\n",
            "4\n",
            "5\n"
          ]
        }
      ],
      "source": [
        "i = 1\n",
        "while i < 6:\n",
        "  print(i)\n",
        "  i += 1"
      ]
    },
    {
      "cell_type": "markdown",
      "source": [
        "Pernyataan Break"
      ],
      "metadata": {
        "id": "oaLZyiKQTATM"
      }
    },
    {
      "cell_type": "code",
      "source": [
        "i = 1\n",
        "while i < 6:\n",
        "  print(i)\n",
        "  if i == 3:\n",
        "    break\n",
        "  i += 1"
      ],
      "metadata": {
        "colab": {
          "base_uri": "https://localhost:8080/"
        },
        "id": "fN65kleyTIWu",
        "outputId": "c23af2dc-f5f6-4126-edea-a159c3a1b2f2"
      },
      "execution_count": null,
      "outputs": [
        {
          "output_type": "stream",
          "name": "stdout",
          "text": [
            "1\n",
            "2\n",
            "3\n"
          ]
        }
      ]
    },
    {
      "cell_type": "markdown",
      "source": [
        "Pernyataan Continue"
      ],
      "metadata": {
        "id": "FEVBOJ84Ti-N"
      }
    },
    {
      "cell_type": "code",
      "source": [
        "i = 0\n",
        "while i < 6:\n",
        "  i += 1\n",
        "  if i == 3:\n",
        "    continue\n",
        "  print(i)"
      ],
      "metadata": {
        "colab": {
          "base_uri": "https://localhost:8080/"
        },
        "id": "snBxucCUTmK0",
        "outputId": "3bd172c5-de8b-4623-c633-c3448d68b7dd"
      },
      "execution_count": null,
      "outputs": [
        {
          "output_type": "stream",
          "name": "stdout",
          "text": [
            "1\n",
            "2\n",
            "4\n",
            "5\n",
            "6\n"
          ]
        }
      ]
    },
    {
      "cell_type": "markdown",
      "source": [
        "Pernyataan Else"
      ],
      "metadata": {
        "id": "R99SxxYjUC0z"
      }
    },
    {
      "cell_type": "code",
      "source": [
        "i = 1\n",
        "while i < 6:\n",
        "  print(i)\n",
        "  i += 1\n",
        "else:\n",
        "  print(\"i tidak kurang dari 6\")"
      ],
      "metadata": {
        "id": "L2QVgmsjUGqU",
        "colab": {
          "base_uri": "https://localhost:8080/"
        },
        "outputId": "bd825ca1-7a29-4a27-e4a8-4a330ba2e939"
      },
      "execution_count": 7,
      "outputs": [
        {
          "output_type": "stream",
          "name": "stdout",
          "text": [
            "1\n",
            "2\n",
            "3\n",
            "4\n",
            "5\n",
            "i tidak kurang dari 6\n"
          ]
        }
      ]
    },
    {
      "cell_type": "markdown",
      "source": [
        "Perulangan For"
      ],
      "metadata": {
        "id": "LuFbJp7YWt3s"
      }
    },
    {
      "cell_type": "code",
      "source": [
        "topik = [\"Kinematika\",\"Mekanika\",\"Termodinamika\"]\n",
        "for x in topik:\n",
        "  print(x)"
      ],
      "metadata": {
        "colab": {
          "base_uri": "https://localhost:8080/"
        },
        "id": "a5c8WFf-WxFj",
        "outputId": "c7efec08-a8b0-4e8f-e13b-d71fa8912c45"
      },
      "execution_count": 8,
      "outputs": [
        {
          "output_type": "stream",
          "name": "stdout",
          "text": [
            "Kinematika\n",
            "Mekanika\n",
            "Termodinamika\n"
          ]
        }
      ]
    },
    {
      "cell_type": "markdown",
      "source": [
        "Perulangan Melalui String"
      ],
      "metadata": {
        "id": "KExYIMp1XInd"
      }
    },
    {
      "cell_type": "code",
      "source": [
        "for x in \"Kinematika\":\n",
        "  print(x)"
      ],
      "metadata": {
        "colab": {
          "base_uri": "https://localhost:8080/"
        },
        "id": "AxBb7VfSXM1z",
        "outputId": "f7d87da4-dc8b-473c-cf5b-02e98a640fa7"
      },
      "execution_count": 9,
      "outputs": [
        {
          "output_type": "stream",
          "name": "stdout",
          "text": [
            "K\n",
            "i\n",
            "n\n",
            "e\n",
            "m\n",
            "a\n",
            "t\n",
            "i\n",
            "k\n",
            "a\n"
          ]
        }
      ]
    },
    {
      "cell_type": "markdown",
      "source": [
        "Pernyataan Break"
      ],
      "metadata": {
        "id": "JAWPJoMPXUTT"
      }
    },
    {
      "cell_type": "code",
      "source": [
        "topik = [\"Kinematika\",\"Mekanika\",\"Termodinamika\"]\n",
        "for x in topik:\n",
        "  print(x)\n",
        "  if x == \"Mekanika\":\n",
        "    break"
      ],
      "metadata": {
        "colab": {
          "base_uri": "https://localhost:8080/"
        },
        "id": "krAou0EVXXCM",
        "outputId": "8d221bde-7626-4d9f-ac5a-fbfe7ca04911"
      },
      "execution_count": 10,
      "outputs": [
        {
          "output_type": "stream",
          "name": "stdout",
          "text": [
            "Kinematika\n",
            "Mekanika\n"
          ]
        }
      ]
    },
    {
      "cell_type": "code",
      "source": [
        "topik = [\"Kinematika\",\"Mekanika\",\"Termodinamika\"]\n",
        "for x in topik:\n",
        "  if x == \"Mekanika\":\n",
        "    break\n",
        "  print(x)"
      ],
      "metadata": {
        "colab": {
          "base_uri": "https://localhost:8080/"
        },
        "id": "-1J95aMcXsGc",
        "outputId": "de6e6394-c602-4350-85c8-0cb83064ab1e"
      },
      "execution_count": 11,
      "outputs": [
        {
          "output_type": "stream",
          "name": "stdout",
          "text": [
            "Kinematika\n"
          ]
        }
      ]
    },
    {
      "cell_type": "markdown",
      "source": [
        "Pernyataan Continue"
      ],
      "metadata": {
        "id": "9DXdtqZtX0Kc"
      }
    },
    {
      "cell_type": "code",
      "source": [
        "topik = [\"Kinematika\",\"Mekanika\",\"Termodinamika\"]\n",
        "for x in topik:\n",
        "  if x == \"Mekanika\":\n",
        "    continue\n",
        "  print(x)"
      ],
      "metadata": {
        "colab": {
          "base_uri": "https://localhost:8080/"
        },
        "id": "VV_CzEpCX2ib",
        "outputId": "3b513a07-c505-4aef-fa25-336694364da4"
      },
      "execution_count": 12,
      "outputs": [
        {
          "output_type": "stream",
          "name": "stdout",
          "text": [
            "Kinematika\n",
            "Termodinamika\n"
          ]
        }
      ]
    },
    {
      "cell_type": "markdown",
      "source": [
        "Fungsi range()"
      ],
      "metadata": {
        "id": "Dkh-oNceYBwk"
      }
    },
    {
      "cell_type": "code",
      "source": [
        "for x in range(6):\n",
        "  print(x)"
      ],
      "metadata": {
        "colab": {
          "base_uri": "https://localhost:8080/"
        },
        "id": "OkgHvAdXYFqc",
        "outputId": "e2e3bf97-831f-45c6-bd9e-634f68ce30ba"
      },
      "execution_count": 14,
      "outputs": [
        {
          "output_type": "stream",
          "name": "stdout",
          "text": [
            "0\n",
            "1\n",
            "2\n",
            "3\n",
            "4\n",
            "5\n"
          ]
        }
      ]
    },
    {
      "cell_type": "code",
      "source": [
        "for x in range(2, 6):\n",
        "  print(x)"
      ],
      "metadata": {
        "colab": {
          "base_uri": "https://localhost:8080/"
        },
        "id": "FvDwosWyYTMb",
        "outputId": "d6e6c1d2-ca66-4c11-b72a-32e6853b65d0"
      },
      "execution_count": 15,
      "outputs": [
        {
          "output_type": "stream",
          "name": "stdout",
          "text": [
            "2\n",
            "3\n",
            "4\n",
            "5\n"
          ]
        }
      ]
    },
    {
      "cell_type": "code",
      "source": [
        "for x in range(2, 30, 3):\n",
        "  print(x)"
      ],
      "metadata": {
        "colab": {
          "base_uri": "https://localhost:8080/"
        },
        "id": "sp_V57pfYYi7",
        "outputId": "611722a1-5d4e-42e4-ef8f-461d93f4d88d"
      },
      "execution_count": 17,
      "outputs": [
        {
          "output_type": "stream",
          "name": "stdout",
          "text": [
            "2\n",
            "5\n",
            "8\n",
            "11\n",
            "14\n",
            "17\n",
            "20\n",
            "23\n",
            "26\n",
            "29\n"
          ]
        }
      ]
    },
    {
      "cell_type": "markdown",
      "source": [
        "Else di Perulangan For"
      ],
      "metadata": {
        "id": "7sXelK3VYeTk"
      }
    },
    {
      "cell_type": "code",
      "source": [
        "for x in range(6):\n",
        "  print(x)\n",
        "else:\n",
        "  print(\"Program selesai!\")"
      ],
      "metadata": {
        "colab": {
          "base_uri": "https://localhost:8080/"
        },
        "id": "3HSeFIToYhFk",
        "outputId": "11829cc5-2c21-4b0b-be7c-aa5b5852a18d"
      },
      "execution_count": 18,
      "outputs": [
        {
          "output_type": "stream",
          "name": "stdout",
          "text": [
            "0\n",
            "1\n",
            "2\n",
            "3\n",
            "4\n",
            "5\n",
            "Program selesai!\n"
          ]
        }
      ]
    },
    {
      "cell_type": "code",
      "source": [
        "for x in range(6):\n",
        "  if x == 3: break\n",
        "  print(x)\n",
        "else:\n",
        "  print(\"Program selesai!\")"
      ],
      "metadata": {
        "colab": {
          "base_uri": "https://localhost:8080/"
        },
        "id": "aYK53WJOYqZr",
        "outputId": "fc258f9d-1301-47f0-f3db-8b4bf32020e0"
      },
      "execution_count": 19,
      "outputs": [
        {
          "output_type": "stream",
          "name": "stdout",
          "text": [
            "0\n",
            "1\n",
            "2\n"
          ]
        }
      ]
    },
    {
      "cell_type": "markdown",
      "source": [
        "Perulangan Bersarang (Nesting)"
      ],
      "metadata": {
        "id": "LV8nLaVKY0As"
      }
    },
    {
      "cell_type": "code",
      "source": [
        "Level = [\"Mudah\",\"Medium\",\"Sulit\"]\n",
        "Topik = [\"Kinematika\",\"Mekanika\",\"Termodinamika\"]\n",
        "\n",
        "for x in Level:\n",
        "  for y in Topik:\n",
        "    print(x, y)"
      ],
      "metadata": {
        "colab": {
          "base_uri": "https://localhost:8080/"
        },
        "id": "Vb8489xPY4gM",
        "outputId": "5cfa3f96-7a78-4922-81e4-32eca86ded4e"
      },
      "execution_count": 20,
      "outputs": [
        {
          "output_type": "stream",
          "name": "stdout",
          "text": [
            "Mudah Kinematika\n",
            "Mudah Mekanika\n",
            "Mudah Termodinamika\n",
            "Medium Kinematika\n",
            "Medium Mekanika\n",
            "Medium Termodinamika\n",
            "Sulit Kinematika\n",
            "Sulit Mekanika\n",
            "Sulit Termodinamika\n"
          ]
        }
      ]
    },
    {
      "cell_type": "markdown",
      "source": [
        "Pernyataan Pass"
      ],
      "metadata": {
        "id": "Z0LXIdDzZdDs"
      }
    },
    {
      "cell_type": "code",
      "source": [
        "for x in [0,1,2]:\n",
        "  pass"
      ],
      "metadata": {
        "id": "LiMsh2kEZfBD"
      },
      "execution_count": 21,
      "outputs": []
    }
  ]
}